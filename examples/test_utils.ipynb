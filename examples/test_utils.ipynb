{
 "cells": [
  {
   "cell_type": "code",
   "execution_count": null,
   "id": "09abee59",
   "metadata": {},
   "outputs": [],
   "source": [
    "from geosci import random_string"
   ]
  },
  {
   "cell_type": "code",
   "execution_count": null,
   "id": "b4647dd2",
   "metadata": {},
   "outputs": [],
   "source": [
    "random_string()"
   ]
  },
  {
   "cell_type": "code",
   "execution_count": null,
   "id": "74a57c72",
   "metadata": {},
   "outputs": [],
   "source": [
    "random_string(string_length= 6)"
   ]
  },
  {
   "cell_type": "code",
   "execution_count": null,
   "id": "7c61301e",
   "metadata": {},
   "outputs": [],
   "source": [
    "random_string(string_length= 3, use_seed= True)"
   ]
  },
  {
   "cell_type": "code",
   "execution_count": null,
   "id": "78575e8b",
   "metadata": {},
   "outputs": [],
   "source": [
    "random_string(string_length= 10,use_seed= True)"
   ]
  },
  {
   "cell_type": "code",
   "execution_count": 1,
   "id": "4f07c3d5",
   "metadata": {},
   "outputs": [],
   "source": [
    "import geosci"
   ]
  },
  {
   "cell_type": "code",
   "execution_count": 2,
   "id": "4d201586",
   "metadata": {},
   "outputs": [
    {
     "data": {
      "text/plain": [
       "'rsb'"
      ]
     },
     "execution_count": 2,
     "metadata": {},
     "output_type": "execute_result"
    }
   ],
   "source": [
    "geosci.random_string()"
   ]
  },
  {
   "cell_type": "code",
   "execution_count": 3,
   "id": "e44e16b2",
   "metadata": {},
   "outputs": [
    {
     "data": {
      "application/vnd.jupyter.widget-view+json": {
       "model_id": "3cb57713cfd342a3a2bfecc29d521e83",
       "version_major": 2,
       "version_minor": 0
      },
      "text/plain": [
       "Map(center=[40, 100], controls=(ZoomControl(options=['position', 'zoom_in_text', 'zoom_in_title', 'zoom_out_te…"
      ]
     },
     "metadata": {},
     "output_type": "display_data"
    }
   ],
   "source": [
    "m = geosci.Map()\n",
    "m"
   ]
  },
  {
   "cell_type": "code",
   "execution_count": 4,
   "id": "890b6a7c",
   "metadata": {},
   "outputs": [],
   "source": [
    "m.add_geojson(\"./data/us_states.geojson\")"
   ]
  },
  {
   "cell_type": "code",
   "execution_count": null,
   "id": "5ea339ff",
   "metadata": {},
   "outputs": [],
   "source": []
  }
 ],
 "metadata": {
  "hide_input": false,
  "kernelspec": {
   "display_name": "Python 3",
   "language": "python",
   "name": "python3"
  },
  "language_info": {
   "codemirror_mode": {
    "name": "ipython",
    "version": 3
   },
   "file_extension": ".py",
   "mimetype": "text/x-python",
   "name": "python",
   "nbconvert_exporter": "python",
   "pygments_lexer": "ipython3",
   "version": "3.8.8"
  },
  "toc": {
   "base_numbering": 1,
   "nav_menu": {},
   "number_sections": true,
   "sideBar": true,
   "skip_h1_title": false,
   "title_cell": "Table of Contents",
   "title_sidebar": "Contents",
   "toc_cell": false,
   "toc_position": {},
   "toc_section_display": true,
   "toc_window_display": false
  }
 },
 "nbformat": 4,
 "nbformat_minor": 5
}
