{
 "cells": [
  {
   "cell_type": "code",
   "execution_count": 1,
   "id": "d8ad7124",
   "metadata": {},
   "outputs": [],
   "source": [
    "import geosci"
   ]
  },
  {
   "cell_type": "code",
   "execution_count": 2,
   "id": "6cfa50e7",
   "metadata": {},
   "outputs": [],
   "source": [
    "m = geosci.Map(google_map = \"HYBRID\")\n",
    "# m.layout.height = \"300px\""
   ]
  },
  {
   "cell_type": "code",
   "execution_count": null,
   "id": "61a95586",
   "metadata": {},
   "outputs": [],
   "source": [
    "in_geojson = r\"D:\\default\\document\\GitHub\\geosci\\examples\\data\\us_states.geojson\""
   ]
  },
  {
   "cell_type": "code",
   "execution_count": null,
   "id": "75d9b537",
   "metadata": {},
   "outputs": [],
   "source": [
    "in_geojson = \"./data/us_states.geojson\"\n",
    "os.path.abspath(in_geojson)"
   ]
  },
  {
   "cell_type": "code",
   "execution_count": null,
   "id": "99a97399",
   "metadata": {},
   "outputs": [],
   "source": [
    "m.add_geojson (in_geojson,layer_name=\"us_state\")"
   ]
  },
  {
   "cell_type": "code",
   "execution_count": null,
   "id": "e88da2fa",
   "metadata": {},
   "outputs": [],
   "source": [
    "in_geojson"
   ]
  },
  {
   "cell_type": "code",
   "execution_count": 4,
   "id": "df6a5a09",
   "metadata": {},
   "outputs": [],
   "source": [
    "in_shp = \"./data/countries.shp\""
   ]
  },
  {
   "cell_type": "code",
   "execution_count": null,
   "id": "59513ac4",
   "metadata": {},
   "outputs": [],
   "source": [
    "style ={\n",
    "    \"stroke\": True,\n",
    "    \"color\": \"#000000\",\n",
    "    \"weight\": 2,\n",
    "    \"opacity\": 1,\n",
    "    \"fill\": True,\n",
    "    \"fillColor\": \"#0000ff\",\n",
    "    \"fillOpacity\": 0.4,\n",
    "}"
   ]
  },
  {
   "cell_type": "code",
   "execution_count": null,
   "id": "9b337eb2",
   "metadata": {},
   "outputs": [],
   "source": [
    "geojson = geosci.shp_to_geojson(in_shp)\n",
    "m.add_geojson(geojson)"
   ]
  },
  {
   "cell_type": "code",
   "execution_count": null,
   "id": "5ec5d15f",
   "metadata": {},
   "outputs": [],
   "source": [
    "m"
   ]
  },
  {
   "cell_type": "code",
   "execution_count": 5,
   "id": "a5d09eaf",
   "metadata": {},
   "outputs": [],
   "source": [
    "m.add_shp(in_shp)"
   ]
  },
  {
   "cell_type": "code",
   "execution_count": null,
   "id": "be84478a",
   "metadata": {},
   "outputs": [],
   "source": [
    "sf = shapefile.Reader(in_shp)\n",
    "geojson = sf.__geo_interface__"
   ]
  },
  {
   "cell_type": "code",
   "execution_count": null,
   "id": "3d4f8848",
   "metadata": {},
   "outputs": [],
   "source": [
    "m"
   ]
  }
 ],
 "metadata": {
  "hide_input": false,
  "kernelspec": {
   "display_name": "Python 3",
   "language": "python",
   "name": "python3"
  },
  "language_info": {
   "codemirror_mode": {
    "name": "ipython",
    "version": 3
   },
   "file_extension": ".py",
   "mimetype": "text/x-python",
   "name": "python",
   "nbconvert_exporter": "python",
   "pygments_lexer": "ipython3",
   "version": "3.8.8"
  },
  "toc": {
   "base_numbering": 1,
   "nav_menu": {},
   "number_sections": true,
   "sideBar": true,
   "skip_h1_title": false,
   "title_cell": "Table of Contents",
   "title_sidebar": "Contents",
   "toc_cell": false,
   "toc_position": {},
   "toc_section_display": true,
   "toc_window_display": false
  }
 },
 "nbformat": 4,
 "nbformat_minor": 5
}
