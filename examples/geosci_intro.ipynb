{
 "cells": [
  {
   "cell_type": "code",
   "execution_count": 1,
   "id": "d8ad7124",
   "metadata": {},
   "outputs": [],
   "source": [
    "import geosci"
   ]
  },
  {
   "cell_type": "code",
   "execution_count": 2,
   "id": "6cfa50e7",
   "metadata": {},
   "outputs": [],
   "source": [
    "m = geosci.Map(google_map = \"HYBRID\")\n",
    "# m.layout.height = \"300px\""
   ]
  },
  {
   "cell_type": "code",
   "execution_count": 3,
   "id": "191d8060",
   "metadata": {},
   "outputs": [
    {
     "data": {
      "application/vnd.jupyter.widget-view+json": {
       "model_id": "2516babf2ab74efb87465d00b0851abb",
       "version_major": 2,
       "version_minor": 0
      },
      "text/plain": [
       "Map(center=[40, 100], controls=(ZoomControl(options=['position', 'zoom_in_text', 'zoom_in_title', 'zoom_out_te…"
      ]
     },
     "metadata": {},
     "output_type": "display_data"
    }
   ],
   "source": [
    "m"
   ]
  },
  {
   "cell_type": "code",
   "execution_count": 4,
   "id": "6a2d32b1",
   "metadata": {},
   "outputs": [],
   "source": [
    "in_geojson = r\"D:\\default\\document\\GitHub\\geosci\\examples\\data\\us_states.geojson\""
   ]
  },
  {
   "cell_type": "code",
   "execution_count": null,
   "id": "fb55ef7a",
   "metadata": {},
   "outputs": [],
   "source": [
    "in_geojson"
   ]
  },
  {
   "cell_type": "code",
   "execution_count": 6,
   "id": "2ab5b629",
   "metadata": {},
   "outputs": [],
   "source": [
    "in_geojson = \"./data/us_states.geojson\""
   ]
  },
  {
   "cell_type": "code",
   "execution_count": null,
   "id": "8407e64f",
   "metadata": {},
   "outputs": [],
   "source": [
    "in_geojson"
   ]
  },
  {
   "cell_type": "code",
   "execution_count": 7,
   "id": "99a97399",
   "metadata": {},
   "outputs": [],
   "source": [
    "m.add_geojson (in_geojson,layer_name=\"us_state\")"
   ]
  },
  {
   "cell_type": "code",
   "execution_count": null,
   "id": "df6a5a09",
   "metadata": {},
   "outputs": [],
   "source": []
  }
 ],
 "metadata": {
  "hide_input": false,
  "kernelspec": {
   "display_name": "Python 3",
   "language": "python",
   "name": "python3"
  },
  "language_info": {
   "codemirror_mode": {
    "name": "ipython",
    "version": 3
   },
   "file_extension": ".py",
   "mimetype": "text/x-python",
   "name": "python",
   "nbconvert_exporter": "python",
   "pygments_lexer": "ipython3",
   "version": "3.8.8"
  },
  "toc": {
   "base_numbering": 1,
   "nav_menu": {},
   "number_sections": true,
   "sideBar": true,
   "skip_h1_title": false,
   "title_cell": "Table of Contents",
   "title_sidebar": "Contents",
   "toc_cell": false,
   "toc_position": {},
   "toc_section_display": true,
   "toc_window_display": false
  }
 },
 "nbformat": 4,
 "nbformat_minor": 5
}
